{
 "cells": [
  {
   "cell_type": "code",
   "execution_count": 16,
   "id": "149ef85c",
   "metadata": {},
   "outputs": [
    {
     "data": {
      "application/javascript": [
       "\n",
       "        if (window._pyforest_update_imports_cell) { window._pyforest_update_imports_cell('import pandas as pd'); }\n",
       "    "
      ],
      "text/plain": [
       "<IPython.core.display.Javascript object>"
      ]
     },
     "metadata": {},
     "output_type": "display_data"
    },
    {
     "name": "stdout",
     "output_type": "stream",
     "text": [
      "      Name  Age         City\n",
      "0    Alice   25     New York\n",
      "1      Bob   30  Los Angeles\n",
      "2  Charlie   22      Chicago\n",
      "3    David   28      Houston\n",
      "4      Eve   35      Phoenix\n"
     ]
    }
   ],
   "source": [
    "data = [\n",
    "    {'Name': 'Alice', 'Age': 25, 'City': 'New York'},\n",
    "    {'Name': 'Bob', 'Age': 30, 'City': 'Los Angeles'},\n",
    "    {'Name': 'Charlie', 'Age': 22, 'City': 'Chicago'},\n",
    "    {'Name': 'David', 'Age': 28, 'City': 'Houston'},\n",
    "    {'Name': 'Eve', 'Age': 35, 'City': 'Phoenix'}\n",
    "]\n",
    "\n",
    "\n",
    "df = pd.DataFrame(data)\n",
    "\n",
    "print(df)\n"
   ]
  },
  {
   "cell_type": "code",
   "execution_count": 17,
   "id": "478b7add",
   "metadata": {},
   "outputs": [
    {
     "name": "stdout",
     "output_type": "stream",
     "text": [
      "      Name  Age         City Age Group\n",
      "0    Alice   25     New York     Youth\n",
      "1      Bob   30  Los Angeles     Adult\n",
      "2  Charlie   22      Chicago     Youth\n",
      "3    David   28      Houston     Adult\n",
      "4      Eve   35      Phoenix     Adult\n"
     ]
    }
   ],
   "source": [
    "def categorize_age(age):\n",
    "    if age <= 25:\n",
    "        return 'Youth'\n",
    "    elif 26 <= age <= 60:\n",
    "        return 'Adult'\n",
    "    else:\n",
    "        return 'Senior'\n",
    "\n",
    "\n",
    "df['Age Group'] = df['Age'].apply(categorize_age)\n",
    "\n",
    "print(df)\n"
   ]
  },
  {
   "cell_type": "code",
   "execution_count": 18,
   "id": "afac980c",
   "metadata": {},
   "outputs": [],
   "source": [
    "a=df[df[\"City\"]==\"New York\"]"
   ]
  },
  {
   "cell_type": "code",
   "execution_count": 19,
   "id": "8b36818e",
   "metadata": {},
   "outputs": [
    {
     "data": {
      "text/html": [
       "<div>\n",
       "<style scoped>\n",
       "    .dataframe tbody tr th:only-of-type {\n",
       "        vertical-align: middle;\n",
       "    }\n",
       "\n",
       "    .dataframe tbody tr th {\n",
       "        vertical-align: top;\n",
       "    }\n",
       "\n",
       "    .dataframe thead th {\n",
       "        text-align: right;\n",
       "    }\n",
       "</style>\n",
       "<table border=\"1\" class=\"dataframe\">\n",
       "  <thead>\n",
       "    <tr style=\"text-align: right;\">\n",
       "      <th></th>\n",
       "      <th>Name</th>\n",
       "      <th>Age</th>\n",
       "      <th>City</th>\n",
       "      <th>Age Group</th>\n",
       "    </tr>\n",
       "  </thead>\n",
       "  <tbody>\n",
       "    <tr>\n",
       "      <th>0</th>\n",
       "      <td>Alice</td>\n",
       "      <td>25</td>\n",
       "      <td>New York</td>\n",
       "      <td>Youth</td>\n",
       "    </tr>\n",
       "  </tbody>\n",
       "</table>\n",
       "</div>"
      ],
      "text/plain": [
       "    Name  Age      City Age Group\n",
       "0  Alice   25  New York     Youth"
      ]
     },
     "execution_count": 19,
     "metadata": {},
     "output_type": "execute_result"
    }
   ],
   "source": [
    "a"
   ]
  },
  {
   "cell_type": "code",
   "execution_count": 20,
   "id": "86e2834d",
   "metadata": {},
   "outputs": [
    {
     "name": "stdout",
     "output_type": "stream",
     "text": [
      "The orginal DataFrame is:\n",
      "      Name  Age         City Age Group\n",
      "0    Alice   25     New York     Youth\n",
      "1      Bob   30  Los Angeles     Adult\n",
      "2  Charlie   22      Chicago     Youth\n",
      "3    David   28      Houston     Adult\n",
      "4      Eve   35      Phoenix     Adult\n",
      "\n",
      "The filtered DataFrame is:\n",
      "    Name  Age      City Age Group\n",
      "0  Alice   25  New York     Youth\n"
     ]
    }
   ],
   "source": [
    "print(f\"The orginal DataFrame is:\\n{df}\\n\")\n",
    "print(f\"The filtered DataFrame is:\\n{a}\")"
   ]
  },
  {
   "cell_type": "code",
   "execution_count": null,
   "id": "1854942a",
   "metadata": {},
   "outputs": [],
   "source": []
  }
 ],
 "metadata": {
  "kernelspec": {
   "display_name": "Python 3 (ipykernel)",
   "language": "python",
   "name": "python3"
  },
  "language_info": {
   "codemirror_mode": {
    "name": "ipython",
    "version": 3
   },
   "file_extension": ".py",
   "mimetype": "text/x-python",
   "name": "python",
   "nbconvert_exporter": "python",
   "pygments_lexer": "ipython3",
   "version": "3.11.1"
  }
 },
 "nbformat": 4,
 "nbformat_minor": 5
}
