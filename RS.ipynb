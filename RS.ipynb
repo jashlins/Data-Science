{
 "cells": [
  {
   "cell_type": "code",
   "execution_count": 1,
   "id": "00d8d1f9",
   "metadata": {},
   "outputs": [],
   "source": [
    "import random\n",
    "\n",
    "def player(prev_play, opponent_history=[]):\n",
    "    # Track opponent's moves\n",
    "    if prev_play != \"\":\n",
    "        opponent_history.append(prev_play)\n",
    "\n",
    "    # Initialize an empty dictionary to store move frequencies\n",
    "    move_counts = {\"R\": 0, \"P\": 0, \"S\": 0}\n",
    "\n",
    "    # Populate the dictionary with the counts of each move\n",
    "    for move in opponent_history:\n",
    "        move_counts[move] += 1\n",
    "\n",
    "    # Predict opponent's next move based on their most frequent move\n",
    "    most_frequent_move = max(move_counts, key=move_counts.get)\n",
    "\n",
    "    # Counter the opponent's most frequent move\n",
    "    if most_frequent_move == \"R\":\n",
    "        return \"P\"  # Paper beats Rock\n",
    "    elif most_frequent_move == \"P\":\n",
    "        return \"S\"  # Scissors beat Paper\n",
    "    else:\n",
    "        return \"R\"  # Rock beats Scissors\n",
    "\n",
    "    # Optional: Implement more advanced strategies if needed\n",
    "\n"
   ]
  },
  {
   "cell_type": "code",
   "execution_count": 3,
   "id": "980c86e7",
   "metadata": {},
   "outputs": [
    {
     "ename": "NameError",
     "evalue": "name 'quincy' is not defined",
     "output_type": "error",
     "traceback": [
      "\u001b[1;31m---------------------------------------------------------------------------\u001b[0m",
      "\u001b[1;31mNameError\u001b[0m                                 Traceback (most recent call last)",
      "Cell \u001b[1;32mIn[3], line 1\u001b[0m\n\u001b[1;32m----> 1\u001b[0m player(player, \u001b[43mquincy\u001b[49m, \u001b[38;5;241m1000\u001b[39m, verbose\u001b[38;5;241m=\u001b[39m\u001b[38;5;28;01mTrue\u001b[39;00m)\n",
      "\u001b[1;31mNameError\u001b[0m: name 'quincy' is not defined"
     ]
    }
   ],
   "source": [
    "player(player, quincy, 1000, verbose=True)\n"
   ]
  },
  {
   "cell_type": "code",
   "execution_count": null,
   "id": "70d57e23",
   "metadata": {},
   "outputs": [],
   "source": []
  }
 ],
 "metadata": {
  "kernelspec": {
   "display_name": "Python 3 (ipykernel)",
   "language": "python",
   "name": "python3"
  },
  "language_info": {
   "codemirror_mode": {
    "name": "ipython",
    "version": 3
   },
   "file_extension": ".py",
   "mimetype": "text/x-python",
   "name": "python",
   "nbconvert_exporter": "python",
   "pygments_lexer": "ipython3",
   "version": "3.11.1"
  }
 },
 "nbformat": 4,
 "nbformat_minor": 5
}
